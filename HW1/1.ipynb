{
 "cells": [
  {
   "cell_type": "code",
   "execution_count": 41,
   "metadata": {},
   "outputs": [],
   "source": [
    "import numpy as np\n",
    "class MccullochPittsNeuron():\n",
    "  \n",
    "  def __init__(self , weights , threshold):\n",
    "    self.weights = weights   \n",
    "    self.threshold = threshold    \n",
    "\n",
    "  def output(self , x):\n",
    "    return 1 if  self.weights @ x >= self.threshold  else 0"
   ]
  },
  {
   "cell_type": "code",
   "execution_count": 42,
   "metadata": {},
   "outputs": [],
   "source": [
    "def complement2(x):\n",
    "    x1, x2, x3, x4 = x\n",
    "    n1 = MccullochPittsNeuron(np.array([2,2]), 2)\n",
    "    a1 = n1.output([x1,x2])\n",
    "    a2 = n1.output([x2,x3])\n",
    "    n2 = MccullochPittsNeuron(np.array([2,-1]), 2)\n",
    "    z1 = n2.output([x1,x2])\n",
    "    z2 = n2.output([x1,x2])\n",
    "    z3 = n2.output([a1,x3])\n",
    "    z4 = n2.output([a1,x3])\n",
    "    z5 = n2.output([a2,x4])\n",
    "    z6 = n2.output([a2,x4])\n",
    "    n3 = MccullochPittsNeuron(np.array([2]),2)\n",
    "    y1 = n3.output([x1])\n",
    "    y2 =n1.output([z1,z2])\n",
    "    y3 =n1.output([z3,z4])\n",
    "    y4 =n1.output([z5,z6])\n",
    "    return f'{y4}{y3}{y2}{y1}'\n",
    "\n",
    "\n",
    "\n"
   ]
  },
  {
   "cell_type": "code",
   "execution_count": 43,
   "metadata": {},
   "outputs": [
    {
     "name": "stdout",
     "output_type": "stream",
     "text": [
      "The twos complement of 0000 is: 0000\n",
      "The twos complement of 0001 is: 0000\n",
      "The twos complement of 0010 is: 1000\n",
      "The twos complement of 0011 is: 0000\n",
      "The twos complement of 0100 is: 1100\n",
      "The twos complement of 0101 is: 0100\n",
      "The twos complement of 0110 is: 1000\n",
      "The twos complement of 0111 is: 0000\n",
      "The twos complement of 1000 is: 0111\n",
      "The twos complement of 1001 is: 0111\n",
      "The twos complement of 1010 is: 1011\n",
      "The twos complement of 1011 is: 0011\n",
      "The twos complement of 1100 is: 1101\n",
      "The twos complement of 1101 is: 0101\n",
      "The twos complement of 1110 is: 1001\n",
      "The twos complement of 1111 is: 0001\n"
     ]
    }
   ],
   "source": [
    "print('The twos complement of 0000' ,'is:',complement2(np.array([0, 0, 0, 0])))\n",
    "print('The twos complement of 0001' ,'is:',complement2(np.array([0, 0, 0, 1])))\n",
    "print('The twos complement of 0010' ,'is:',complement2(np.array([0, 0, 1, 0])))\n",
    "print('The twos complement of 0011' ,'is:',complement2(np.array([0, 0, 1, 1])))\n",
    "print('The twos complement of 0100' ,'is:',complement2(np.array([0, 1, 0, 0])))\n",
    "print('The twos complement of 0101' ,'is:',complement2(np.array([0, 1, 0, 1])))\n",
    "print('The twos complement of 0110' ,'is:',complement2(np.array([0, 1, 1, 0])))\n",
    "print('The twos complement of 0111' ,'is:',complement2(np.array([0, 1, 1, 1])))\n",
    "print('The twos complement of 1000' ,'is:',complement2(np.array([1, 0, 0, 0])))\n",
    "print('The twos complement of 1001' ,'is:',complement2(np.array([1, 0, 0, 1])))\n",
    "print('The twos complement of 1010' ,'is:',complement2(np.array([1, 0, 1, 0])))\n",
    "print('The twos complement of 1011' ,'is:',complement2(np.array([1, 0, 1, 1])))\n",
    "print('The twos complement of 1100' ,'is:',complement2(np.array([1, 1, 0, 0])))\n",
    "print('The twos complement of 1101' ,'is:',complement2(np.array([1, 1, 0, 1])))\n",
    "print('The twos complement of 1110' ,'is:',complement2(np.array([1, 1, 1, 0])))\n",
    "print('The twos complement of 1111' ,'is:',complement2(np.array([1, 1, 1, 1])))\n",
    "\n"
   ]
  }
 ],
 "metadata": {
  "kernelspec": {
   "display_name": "Python 3",
   "language": "python",
   "name": "python3"
  },
  "language_info": {
   "codemirror_mode": {
    "name": "ipython",
    "version": 3
   },
   "file_extension": ".py",
   "mimetype": "text/x-python",
   "name": "python",
   "nbconvert_exporter": "python",
   "pygments_lexer": "ipython3",
   "version": "3.11.0"
  }
 },
 "nbformat": 4,
 "nbformat_minor": 2
}
